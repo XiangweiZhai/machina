{
 "cells": [
  {
   "cell_type": "markdown",
   "metadata": {},
   "source": [
    "# Parse A1"
   ]
  },
  {
   "cell_type": "code",
   "execution_count": 1,
   "metadata": {
    "collapsed": true
   },
   "outputs": [],
   "source": [
    "confidence=0.95"
   ]
  },
  {
   "cell_type": "code",
   "execution_count": 2,
   "metadata": {
    "collapsed": true
   },
   "outputs": [],
   "source": [
    "def get_id(line):\n",
    "    return \"_\".join(map(str, [line['chromosome_name'], line['start'], line['stop']]))"
   ]
  },
  {
   "cell_type": "code",
   "execution_count": 3,
   "metadata": {
    "collapsed": false
   },
   "outputs": [
    {
     "data": {
      "text/plain": [
       "Index([u'chromosome_name', u'start', u'stop', u'reference', u'variant',\n",
       "       u'type', u'gene_name', u'transcript_name', u'transcript_species',\n",
       "       u'transcript_source', u'transcript_version', u'strand',\n",
       "       u'transcript_status', u'trv_type', u'c_position', u'amino_acid_change',\n",
       "       u'ucsc_cons', u'domain', u'all_domains', u'deletion_substructures',\n",
       "       u'transcript_error', u'adrenalmet.rcnt.llr3_ref',\n",
       "       u'adrenalmet.rcnt.llr3_var', u'adrenalmet.rcnt.llr3_VAF',\n",
       "       u'livermet.rcnt.llr3_ref', u'livermet.rcnt.llr3_var',\n",
       "       u'livermet.rcnt.llr3_VAF', u'lungmet.rcnt.llr3_ref',\n",
       "       u'lungmet.rcnt.llr3_var', u'lungmet.rcnt.llr3_VAF',\n",
       "       u'spinalmet.rcnt.llr3_ref', u'spinalmet.rcnt.llr3_var',\n",
       "       u'spinalmet.rcnt.llr3_VAF', u'tumor.rcnt.llr3_ref',\n",
       "       u'tumor.rcnt.llr3_var', u'tumor.rcnt.llr3_VAF', u'cluster'],\n",
       "      dtype='object')"
      ]
     },
     "execution_count": 3,
     "metadata": {},
     "output_type": "execute_result"
    }
   ],
   "source": [
    "import pandas as pd\n",
    "table = pd.read_table(\"A1.tsv\")\n",
    "table['id']=table.apply(get_id, axis=1)\n",
    "table = table.set_index('id')\n",
    "table.columns"
   ]
  },
  {
   "cell_type": "markdown",
   "metadata": {},
   "source": [
    "## Write Treeomics input files"
   ]
  },
  {
   "cell_type": "code",
   "execution_count": 3,
   "metadata": {
    "collapsed": true
   },
   "outputs": [],
   "source": [
    "ref_cols = ['tumor.rcnt.llr3_ref','adrenalmet.rcnt.llr3_ref', 'livermet.rcnt.llr3_ref', 'lungmet.rcnt.llr3_ref', 'spinalmet.rcnt.llr3_ref']\n",
    "var_cols = ['tumor.rcnt.llr3_var','adrenalmet.rcnt.llr3_var', 'livermet.rcnt.llr3_var', 'lungmet.rcnt.llr3_var', 'spinalmet.rcnt.llr3_var']\n",
    "\n",
    "cols = ['breast', 'adrenal', 'liver', 'lung', 'spinal']\n",
    "table2 = table[['cluster', 'gene_name', 'chromosome_name', 'start'] + ref_cols + var_cols]\n",
    "table2.columns = ['cluster', 'gene_name', 'chromosome_name', 'start']+['ref-'+c for c in cols] + ['var-'+c for c in cols] \n",
    "\n",
    "with open(\"A1_treeomics_coverage.txt\", \"w\") as f:\n",
    "    f.write(\"\\t\".join([\"Chromosome\", \"Position\", \"Change\", \"Gene\", \"breast_0\", \"adrenal_0\", \"liver_0\", \"lung_0\", \"spinal_0\"]) + \"\\n\")\n",
    "    for i, row in table2.iterrows():\n",
    "        f.write(\"\\t\".join(map(str, [row['chromosome_name'], row['start'], 'X>Y', row['gene_name'], \n",
    "                                    row['ref-breast'] + row['var-breast'], \n",
    "                                    row['ref-adrenal'] + row['var-adrenal'], \n",
    "                                    row['ref-liver'] + row['var-liver'], \n",
    "                                    row['ref-lung'] + row['var-lung'], \n",
    "                                    row['ref-spinal'] + row['var-spinal']])) + \"\\n\")\n",
    "    \n",
    "with open(\"A1_treeomics_mut.txt\", \"w\") as f:\n",
    "    f.write(\"\\t\".join([\"Chromosome\", \"Position\", \"Change\", \"Gene\", \"breast_0\", \"adrenal_0\", \"liver_0\", \"lung_0\", \"spinal_0\"]) + \"\\n\")\n",
    "    for i, row in table2.iterrows():\n",
    "        f.write(\"\\t\".join(map(str, [row['chromosome_name'], row['start'], 'X>Y', row['gene_name'], \n",
    "                                    row['var-breast'], row['var-adrenal'], row['var-liver'], \n",
    "                                    row['var-lung'], row['var-spinal']])) + \"\\n\")\n",
    "\n"
   ]
  },
  {
   "cell_type": "markdown",
   "metadata": {},
   "source": [
    "## Generate MACHINA input file"
   ]
  },
  {
   "cell_type": "code",
   "execution_count": 4,
   "metadata": {
    "collapsed": false
   },
   "outputs": [],
   "source": [
    "ref_cols = ['tumor.rcnt.llr3_ref','adrenalmet.rcnt.llr3_ref', 'livermet.rcnt.llr3_ref', 'lungmet.rcnt.llr3_ref', 'spinalmet.rcnt.llr3_ref']\n",
    "var_cols = ['tumor.rcnt.llr3_var','adrenalmet.rcnt.llr3_var', 'livermet.rcnt.llr3_var', 'lungmet.rcnt.llr3_var', 'spinalmet.rcnt.llr3_var']\n",
    "\n",
    "#breast,adrenal,liver,lung,spinal\n",
    "cols = ['breast', 'adrenal', 'liver', 'lung', 'spinal']\n",
    "table = table[['cluster']+ref_cols+var_cols]\n",
    "table.columns = ['cluster']+['ref-'+c for c in cols] + ['var-'+c for c in cols]"
   ]
  },
  {
   "cell_type": "markdown",
   "metadata": {},
   "source": [
    "## Get intervals"
   ]
  },
  {
   "cell_type": "code",
   "execution_count": 9,
   "metadata": {
    "collapsed": false
   },
   "outputs": [
    {
     "name": "stdout",
     "output_type": "stream",
     "text": [
      "0.998888888889\n"
     ]
    }
   ],
   "source": [
    "ctable = table.groupby('cluster').sum()\n",
    "\n",
    "global corrected_confidence\n",
    "nsamples = len([c for c in ctable.columns if c.startswith('ref')])\n",
    "nclusters = len(ctable)\n",
    "corrected_confidence = 1-((1.-confidence)/(nsamples*nclusters))\n",
    "print corrected_confidence\n",
    "\n",
    "assert(corrected_confidence > confidence)\n",
    "assert(corrected_confidence < 1.0)"
   ]
  },
  {
   "cell_type": "code",
   "execution_count": 10,
   "metadata": {
    "collapsed": true
   },
   "outputs": [],
   "source": [
    "import numpy\n",
    "from scipy.stats import beta\n",
    "from scipy.stats import norm\n",
    "\n",
    "def binomial_hpdr(n, N, pct, a=1, b=1, n_pbins=1e3):\n",
    "    \"\"\"\n",
    "    Function computes the posterior mode along with the upper and lower bounds of the\n",
    "    **Highest Posterior Density Region**.\n",
    "\n",
    "    Parameters\n",
    "    ----------\n",
    "    n: number of successes \n",
    "    N: sample size \n",
    "    pct: the size of the confidence interval (between 0 and 1)\n",
    "    a: the alpha hyper-parameter for the Beta distribution used as a prior (Default=1)\n",
    "    b: the beta hyper-parameter for the Beta distribution used as a prior (Default=1)\n",
    "    n_pbins: the number of bins to segment the p_range into (Default=1e3)\n",
    "\n",
    "    Returns\n",
    "    -------\n",
    "    A tuple that contains the mode as well as the lower and upper bounds of the interval\n",
    "    (mode, lower, upper)\n",
    "\n",
    "    \"\"\"\n",
    "    # fixed random variable object for posterior Beta distribution\n",
    "    rv = beta(n+a, N-n+b)\n",
    "    # determine the mode and standard deviation of the posterior\n",
    "    stdev = rv.stats('v')**0.5\n",
    "    mode = (n+a-1.)/(N+a+b-2.)\n",
    "    # compute the number of sigma that corresponds to this confidence\n",
    "    # this is used to set the rough range of possible success probabilities\n",
    "    n_sigma = numpy.ceil(norm.ppf( (1+pct)/2. ))+1\n",
    "    # set the min and max values for success probability \n",
    "    max_p = mode + n_sigma * stdev\n",
    "    if max_p > 1:\n",
    "        max_p = 1.\n",
    "    min_p = mode - n_sigma * stdev\n",
    "    if min_p > 1:\n",
    "        min_p = 1.\n",
    "    # make the range of success probabilities\n",
    "    p_range = numpy.linspace(min_p, max_p, n_pbins+1)\n",
    "    # construct the probability mass function over the given range\n",
    "    if mode > 0.5:\n",
    "        sf = rv.sf(p_range)\n",
    "        pmf = sf[:-1] - sf[1:]\n",
    "    else:\n",
    "        cdf = rv.cdf(p_range)\n",
    "        pmf = cdf[1:] - cdf[:-1]\n",
    "    # find the upper and lower bounds of the interval \n",
    "    sorted_idxs = numpy.argsort( pmf )[::-1]\n",
    "    cumsum = numpy.cumsum( numpy.sort(pmf)[::-1] )\n",
    "    j = numpy.argmin( numpy.abs(cumsum - pct) )\n",
    "    upper = p_range[ (sorted_idxs[:j+1]).max()+1 ]\n",
    "    lower = p_range[ (sorted_idxs[:j+1]).min() ]    \n",
    "\n",
    "    return (mode, lower, upper)"
   ]
  },
  {
   "cell_type": "code",
   "execution_count": 14,
   "metadata": {
    "collapsed": false
   },
   "outputs": [],
   "source": [
    "def get_ub(row, sam):\n",
    "    v=binomial_hpdr(row['var-'+sam], row['var-'+sam]+row['ref-'+sam], corrected_confidence)\n",
    "    return v[2]\n",
    "    \n",
    "\n",
    "def get_lb(row, sam):\n",
    "    v=binomial_hpdr(row['var-'+sam], row['var-'+sam]+row['ref-'+sam], corrected_confidence)\n",
    "    mval = v[1]\n",
    "    #if mval < 0.01: mval = 0\n",
    "    return mval\n",
    "\n",
    "def get_mean(row, sam):\n",
    "    v=binomial_hpdr(row['var-'+sam], row['var-'+sam]+row['ref-'+sam], corrected_confidence)\n",
    "    mval = v[0]\n",
    "    return mval\n",
    "\n",
    "ctable = table.groupby('cluster').sum()\n",
    "for sam in cols:\n",
    "    ctable['ub-'+sam]= ctable.apply(get_ub, args=[sam], axis=1)\n",
    "    ctable['lb-'+sam]= ctable.apply(get_lb, args=[sam], axis=1)\n",
    "    ctable[sam]= ctable.apply(get_mean, args=[sam], axis=1)\n",
    "    "
   ]
  },
  {
   "cell_type": "code",
   "execution_count": 15,
   "metadata": {
    "collapsed": false
   },
   "outputs": [],
   "source": [
    "def get_ub(row, sam):\n",
    "    v=binomial_hpdr(row['var-'+sam], row['var-'+sam]+row['ref-'+sam], corrected_confidence)\n",
    "    return v[2]\n",
    "    \n",
    "\n",
    "def get_lb(row, sam):\n",
    "    v=binomial_hpdr(row['var-'+sam], row['var-'+sam]+row['ref-'+sam], corrected_confidence)\n",
    "    mval = v[1]\n",
    "    if mval < 0.01: mval = 0\n",
    "    return mval\n",
    "\n",
    "def get_mean(row, sam):\n",
    "    v=binomial_hpdr(row['var-'+sam], row['var-'+sam]+row['ref-'+sam], corrected_confidence)\n",
    "    mval = v[0]\n",
    "    return mval\n",
    "\n",
    "ctable_cutoff = table.groupby('cluster').sum()\n",
    "for sam in cols:\n",
    "    ctable_cutoff['ub-'+sam]= ctable.apply(get_ub, args=[sam], axis=1)\n",
    "    ctable_cutoff['lb-'+sam]= ctable.apply(get_lb, args=[sam], axis=1)\n",
    "    ctable_cutoff[sam]= ctable.apply(get_mean, args=[sam], axis=1)"
   ]
  },
  {
   "cell_type": "code",
   "execution_count": 16,
   "metadata": {
    "collapsed": false
   },
   "outputs": [],
   "source": [
    "def get_vaf(row, sam):\n",
    "    return float(row['var-'+sam])/float(row['var-'+sam]+row['ref-'+sam])\n",
    "\n",
    "#ctable_cutoff = table.groupby('cluster').mean()\n",
    "vafs = pd.DataFrame()\n",
    "for sam in cols:\n",
    "    vafs[sam] = table.apply(get_vaf, args=[sam], axis=1)\n",
    "vafs['cluster'] = table['cluster']"
   ]
  },
  {
   "cell_type": "code",
   "execution_count": 17,
   "metadata": {
    "collapsed": false
   },
   "outputs": [],
   "source": [
    "rows = [\"5 #anatomical sites\\n5 #samples\\n9 #mutations\\n#sample_index\\tsample_label\\tanatomical_site_index\\tanatomical_site_label\\tcharacter_index\\tcharacter_label\\tf_lb\\tf_ub\\n\",]\n",
    "\n",
    "def print_char(row, sam):\n",
    "    return \"\\t\".join(map(str,[i, sam, i, sam, row.name-1, str(row.name), max(row['lb-'+sam] * 2, 0), min(1, 2 * row['ub-'+sam])]))+\"\\n\"\n",
    "\n",
    "for i, sam in enumerate(cols):\n",
    "    rows += list(ctable_cutoff.apply(print_char, args=[sam], axis=1))\n",
    "\n",
    "with open(\"../A1_MACHINA_\"+str(confidence)+\".tsv\", 'w') as f:\n",
    "    for line in rows:\n",
    "        f.write(line)"
   ]
  }
 ],
 "metadata": {
  "kernelspec": {
   "display_name": "Python 2",
   "language": "python",
   "name": "python2"
  },
  "language_info": {
   "codemirror_mode": {
    "name": "ipython",
    "version": 2
   },
   "file_extension": ".py",
   "mimetype": "text/x-python",
   "name": "python",
   "nbconvert_exporter": "python",
   "pygments_lexer": "ipython2",
   "version": "2.7.12"
  }
 },
 "nbformat": 4,
 "nbformat_minor": 0
}
